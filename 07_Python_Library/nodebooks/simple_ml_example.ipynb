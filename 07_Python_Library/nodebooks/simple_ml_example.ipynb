{
 "cells": [
  {
   "cell_type": "code",
   "execution_count": 1,
   "metadata": {},
   "outputs": [],
   "source": [
    "# Imports the cffi wrapper for the sciencemode library\n",
    "from sciencemode3 import sciencemode\n",
    "import time"
   ]
  },
  {
   "cell_type": "markdown",
   "metadata": {},
   "source": [
    "## Creating same basic variables for the sciencemode library"
   ]
  },
  {
   "cell_type": "code",
   "execution_count": 2,
   "metadata": {},
   "outputs": [],
   "source": [
    "ack = sciencemode.ffi.new(\"Smpt_ack*\")\n",
    "device = sciencemode.ffi.new(\"Smpt_device*\")\n",
    "version_ack = sciencemode.ffi.new(\"Smpt_get_version_ack*\")\n",
    "ml_init = sciencemode.ffi.new(\"Smpt_ml_init*\")\n",
    "ml_update = sciencemode.ffi.new(\"Smpt_ml_update*\")\n",
    "ml_get_current_data = sciencemode.ffi.new(\"Smpt_ml_get_current_data*\")\n",
    "ml_get_current_data_ack = sciencemode.ffi.new(\"Smpt_ml_get_current_data_ack*\")"
   ]
  },
  {
   "cell_type": "markdown",
   "metadata": {},
   "source": [
    "## Identifying and Opening the com port"
   ]
  },
  {
   "cell_type": "code",
   "execution_count": 3,
   "metadata": {},
   "outputs": [
    {
     "name": "stdout",
     "output_type": "stream",
     "text": [
      "Port port COM3 exists\n",
      "Found and opened a stimulator at COM3\n",
      "Firmware 1.0.2\n",
      "SMPT 4.0.0\n"
     ]
    }
   ],
   "source": [
    "found_stim = False\n",
    "\n",
    "for i in range(15):\n",
    "    if found_stim:\n",
    "        continue\n",
    "    com_str = \"COM%d\" % (i + 1)\n",
    "    com = sciencemode.ffi.new(\"char[]\", com_str.encode(\"ascii\"))\n",
    "    ret = sciencemode.smpt_check_serial_port(com)\n",
    "    if (ret):\n",
    "        print(\"Port port %s exists\" % com_str)\n",
    "        ret = sciencemode.smpt_open_serial_port(device,com)\n",
    "        if not ret:\n",
    "            ret = sciencemode.smpt_close_serial_port(device)\n",
    "            continue\n",
    "        ret = sciencemode.smpt_send_get_version_main(device, 0)\n",
    "        if not ret:\n",
    "            ret = sciencemode.smpt_close_serial_port(device)\n",
    "            continue\n",
    "        cnt = 0\n",
    "        while ( not sciencemode.smpt_new_packet_received(device) and cnt < 3):\n",
    "            time.sleep(1)\n",
    "        if cnt == 3:\n",
    "            ret = sciencemode.smpt_close_serial_port(device)\n",
    "            continue\n",
    "        sciencemode.smpt_last_ack(device, ack);\n",
    "        if ack.command_number != sciencemode.Smpt_Cmd_Get_Version_Main_Ack:\n",
    "            ret = sciencemode.smpt_close_serial_port(device)\n",
    "            continue\n",
    "        else:\n",
    "            found_stim = True\n",
    "            ret = sciencemode.smpt_get_get_version_main_ack(device, version_ack)\n",
    "if found_stim:\n",
    "    print(\"Found and opened a stimulator at %s\" % com_str)\n",
    "    print(\"Firmware %d.%d.%d\" % (version_ack.uc_version.fw_version.major, version_ack.uc_version.fw_version.minor, version_ack.uc_version.fw_version.revision))\n",
    "    print(\"SMPT %d.%d.%d\" % (version_ack.uc_version.smpt_version.major, version_ack.uc_version.smpt_version.minor, version_ack.uc_version.smpt_version.revision))\n",
    "    "
   ]
  },
  {
   "cell_type": "markdown",
   "metadata": {},
   "source": [
    "## Initializing Mid Level and stimulating all 4 channels for 10 seconds"
   ]
  },
  {
   "cell_type": "code",
   "execution_count": 5,
   "metadata": {},
   "outputs": [
    {
     "name": "stdout",
     "output_type": "stream",
     "text": [
      "smpt_send_ml_init:  True\n",
      "smpt_send_ml_update:  True\n",
      "All channels ok\n",
      "All channels ok\n",
      "error on 3\n",
      "Error on channel\n",
      "error on 3\n",
      "Error on channel\n",
      "error on 3\n",
      "Error on channel\n",
      "error on 3\n",
      "Error on channel\n",
      "error on 3\n",
      "Error on channel\n",
      "error on 3\n",
      "Error on channel\n",
      "error on 3\n",
      "Error on channel\n",
      "error on 3\n",
      "Error on channel\n",
      "smpt_send_ml_stop:  True\n"
     ]
    }
   ],
   "source": [
    "# Cleaning up received packages\n",
    "while ( sciencemode.smpt_new_packet_received(device)):\n",
    "    sciencemode.smpt_clear_ack(ack)\n",
    "    sciencemode.smpt_last_ack(device, ack)\n",
    "\n",
    "ml_init.packet_number = sciencemode.smpt_packet_number_generator_next(device)\n",
    "ret = sciencemode.smpt_send_ml_init(device, ml_init)\n",
    "print(\"smpt_send_ml_init: \", ret)\n",
    "time.sleep(1)\n",
    "\n",
    "ml_update.packet_number = sciencemode.smpt_packet_number_generator_next(device)\n",
    "for i in range(4):\n",
    "    ml_update.enable_channel[i] = True\n",
    "    ml_update.channel_config[i].period = 20\n",
    "    ml_update.channel_config[i].number_of_points = 3\n",
    "    ml_update.channel_config[i].points[0].time = 100\n",
    "    ml_update.channel_config[i].points[0].current = 20\n",
    "    ml_update.channel_config[i].points[1].time = 100\n",
    "    ml_update.channel_config[i].points[1].current = 0\n",
    "    ml_update.channel_config[i].points[2].time = 100\n",
    "    ml_update.channel_config[i].points[2].current = -20\n",
    "\n",
    "    \n",
    "ret = sciencemode.smpt_send_ml_update(device, ml_update)\n",
    "print(\"smpt_send_ml_update: \", ret)\n",
    "\n",
    "for i in range(10):\n",
    "    sciencemode.smpt_clear_ml_get_current_data(ml_get_current_data)\n",
    "    # this is the correct way in initializing ml_get_current_data\n",
    "    ml_get_current_data.data_selection[1] = True\n",
    "    \n",
    "    ml_get_current_data.packet_number = sciencemode.smpt_packet_number_generator_next(device)\n",
    "    ret = sciencemode.smpt_send_ml_get_current_data(device, ml_get_current_data)\n",
    "    time.sleep(1)\n",
    "    while ( sciencemode.smpt_new_packet_received(device)):\n",
    "        sciencemode.smpt_clear_ack(ack)\n",
    "        sciencemode.smpt_last_ack(device, ack)\n",
    "        if (ack.command_number != sciencemode.Smpt_Cmd_Ml_Get_Current_Data_Ack):\n",
    "            continue\n",
    "        sciencemode.smpt_clear_ml_get_current_data_ack(ml_get_current_data_ack)\n",
    "        ret = sciencemode.smpt_get_ml_get_current_data_ack(device, ml_get_current_data_ack)\n",
    "        if (not ret):\n",
    "            print(\"smpt_get_ml_get_current_data_ack: \", ret)\n",
    "        error_on_channel = False\n",
    "        for i in range(4):\n",
    "            if (ml_get_current_data_ack.stimulation_data.electrode_error[i]):\n",
    "                error_on_channel = True\n",
    "                print(\"error on %d\" % i)\n",
    "        if error_on_channel:\n",
    "            print(\"Error on channel\")\n",
    "        else:\n",
    "            print(\"All channels ok\")\n",
    "    \n",
    "\n",
    "packet_number = sciencemode.smpt_packet_number_generator_next(device)\n",
    "ret = sciencemode.smpt_send_ml_stop(device, packet_number)\n",
    "print(\"smpt_send_ml_stop: \", ret)"
   ]
  },
  {
   "cell_type": "markdown",
   "metadata": {},
   "source": [
    "## Closing the opened device port"
   ]
  },
  {
   "cell_type": "code",
   "execution_count": 6,
   "metadata": {},
   "outputs": [
    {
     "name": "stdout",
     "output_type": "stream",
     "text": [
      "smpt_close_serial_port:  True\n"
     ]
    }
   ],
   "source": [
    "ret = sciencemode.smpt_close_serial_port(device)\n",
    "print(\"smpt_close_serial_port: \", ret)"
   ]
  },
  {
   "cell_type": "code",
   "execution_count": null,
   "metadata": {},
   "outputs": [],
   "source": []
  }
 ],
 "metadata": {
  "kernelspec": {
   "display_name": "Python 3.9.12 ('base')",
   "language": "python",
   "name": "python3"
  },
  "language_info": {
   "codemirror_mode": {
    "name": "ipython",
    "version": 3
   },
   "file_extension": ".py",
   "mimetype": "text/x-python",
   "name": "python",
   "nbconvert_exporter": "python",
   "pygments_lexer": "ipython3",
   "version": "3.9.12"
  },
  "orig_nbformat": 4,
  "vscode": {
   "interpreter": {
    "hash": "6c7d6f270a813d2cd9207f27374f705314af95b2d4532126e77f03787c5229ac"
   }
  }
 },
 "nbformat": 4,
 "nbformat_minor": 2
}
